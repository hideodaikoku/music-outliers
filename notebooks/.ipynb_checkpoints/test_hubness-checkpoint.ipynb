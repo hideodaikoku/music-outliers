{
 "cells": [
  {
   "cell_type": "code",
   "execution_count": 1,
   "metadata": {
    "collapsed": true
   },
   "outputs": [],
   "source": [
    "import numpy as np\n",
    "import pickle\n",
    "from scipy.stats import pearsonr\n",
    "from scipy.stats import skew\n",
    "import sys\n",
    "from sklearn.metrics.pairwise import pairwise_distances\n",
    "%matplotlib inline\n",
    "import matplotlib.pyplot as plt\n",
    "\n",
    "%load_ext autoreload\n",
    "%autoreload 2\n",
    "\n",
    "sys.path.append('../')\n",
    "import scripts.outliers as outliers\n",
    "import scripts.utils_spatial as utils_spatial"
   ]
  },
  {
   "cell_type": "code",
   "execution_count": 2,
   "metadata": {
    "collapsed": true
   },
   "outputs": [],
   "source": [
    "X_list, Y, Yaudio = pickle.load(open('../data/lda_data_melodia_8.pickle','rb'))\n",
    "#ddf = outliers.load_metadata(Yaudio, metadata_file='../data/metadata.csv')\n",
    "#w, data_countries = utils_spatial.get_neighbors_for_countries_in_dataset(Y)\n",
    "#w_dict = utils_spatial.from_weights_to_dict(w, data_countries)\n",
    "X = np.concatenate(X_list, axis=1)\n",
    "\n",
    "# global outliers\n",
    "#df_global, threshold, MD = outliers.get_outliers_df(X, Y, chi2thr=0.999)"
   ]
  },
  {
   "cell_type": "code",
   "execution_count": 3,
   "metadata": {
    "collapsed": false
   },
   "outputs": [
    {
     "data": {
      "text/plain": [
       "(8200, 380)"
      ]
     },
     "execution_count": 3,
     "metadata": {},
     "output_type": "execute_result"
    }
   ],
   "source": [
    "X.shape"
   ]
  },
  {
   "cell_type": "markdown",
   "metadata": {},
   "source": [
    "## distance matrix"
   ]
  },
  {
   "cell_type": "code",
   "execution_count": 4,
   "metadata": {
    "collapsed": true
   },
   "outputs": [],
   "source": [
    "D = pairwise_distances(X, metric='mahalanobis')"
   ]
  },
  {
   "cell_type": "code",
   "execution_count": 5,
   "metadata": {
    "collapsed": false
   },
   "outputs": [
    {
     "data": {
      "text/plain": [
       "(8200, 8200)"
      ]
     },
     "execution_count": 5,
     "metadata": {},
     "output_type": "execute_result"
    }
   ],
   "source": [
    "np.savetxt('../data/D_mahal.csv', D)\n",
    "D = np.loadtxt('../data/D_mahal.csv')\n",
    "D.shape"
   ]
  },
  {
   "cell_type": "code",
   "execution_count": 6,
   "metadata": {
    "collapsed": false
   },
   "outputs": [
    {
     "data": {
      "image/png": "[encoded data removed]",
      "text/plain": [
       "<matplotlib.figure.Figure at 0x7fb84d839fd0>"
      ]
     },
     "metadata": {},
     "output_type": "display_data"
    }
   ],
   "source": [
    "plt.hist(D.ravel(), bins=100);"
   ]
  },
  {
   "cell_type": "markdown",
   "metadata": {},
   "source": [
    "## n-occurrence and stats"
   ]
  },
  {
   "cell_type": "code",
   "execution_count": 5,
   "metadata": {
    "collapsed": true
   },
   "outputs": [],
   "source": [
    "def n_occurrence_from_D(D, k=10, n_items=None):\n",
    "    if n_items is None:\n",
    "        n_items = len(D)\n",
    "    sort_idx = np.argsort(D, axis=1)\n",
    "    D_k = sort_idx[:, 1:(k+1)]  # nearest neighbour is the item itself\n",
    "    N_k = np.bincount(D_k.astype(int).ravel(), minlength=n_items)\n",
    "    return N_k"
   ]
  },
  {
   "cell_type": "code",
   "execution_count": 14,
   "metadata": {
    "collapsed": false
   },
   "outputs": [
    {
     "name": "stdout",
     "output_type": "stream",
     "text": [
      "60\n",
      "10.0869227031\n",
      "0.0\n",
      "60.0\n",
      "389.813680947\n",
      "142\n",
      "7.70305908648\n"
     ]
    },
    {
     "data": {
      "text/plain": [
       "[<matplotlib.lines.Line2D at 0x7fb823513f90>]"
      ]
     },
     "execution_count": 14,
     "metadata": {},
     "output_type": "execute_result"
    },
    {
     "data": {
      "image/png": "[encoded data removed]",
      "text/plain": [
       "<matplotlib.figure.Figure at 0x7fb849123390>"
      ]
     },
     "metadata": {},
     "output_type": "display_data"
    },
    {
     "data": {
      "image/png": "[encoded data removed]",
      "text/plain": [
       "<matplotlib.figure.Figure at 0x7fb823a72dd0>"
      ]
     },
     "metadata": {},
     "output_type": "display_data"
    },
    {
     "data": {
      "image/png": "[encoded data removed]",
      "text/plain": [
       "<matplotlib.figure.Figure at 0x7fb846884750>"
      ]
     },
     "metadata": {},
     "output_type": "display_data"
    }
   ],
   "source": [
    "# take k mean of country sample\n",
    "uniq_countries, uniq_counts = np.unique(Y, return_counts=True)\n",
    "k = np.int(np.round(np.mean(uniq_counts)))\n",
    "#N_k = n_occurrence_from_D(D, k=k)\n",
    "\n",
    "print k\n",
    "print skew(N_k)\n",
    "print np.median(N_k)\n",
    "print np.mean(N_k)\n",
    "print np.std(N_k)\n",
    "print len(np.where(N_k>1000)[0])\n",
    "print skew(N_k[N_k<1000])\n",
    "\n",
    "plt.figure()\n",
    "plt.hist(N_k, bins=100);\n",
    "plt.figure()\n",
    "plt.hist(N_k[N_k<1000], bins=100);\n",
    "plt.figure()\n",
    "plt.plot(np.sort(N_k))"
   ]
  },
  {
   "cell_type": "markdown",
   "metadata": {},
   "source": [
    "## what if we use a different distance metric?"
   ]
  },
  {
   "cell_type": "code",
   "execution_count": 7,
   "metadata": {
    "collapsed": false
   },
   "outputs": [
    {
     "name": "stdout",
     "output_type": "stream",
     "text": [
      "1.20652171267\n"
     ]
    },
    {
     "data": {
      "image/png": "[encoded data removed]",
      "text/plain": [
       "<matplotlib.figure.Figure at 0x7f7616b7dd90>"
      ]
     },
     "metadata": {},
     "output_type": "display_data"
    }
   ],
   "source": [
    "D_cos = pairwise_distances(X, metric='cosine')\n",
    "uniq_countries, uniq_counts = np.unique(Y, return_counts=True)\n",
    "k = np.int(np.round(np.mean(uniq_counts)))\n",
    "N_k = n_occurrence_from_D(D_cos, k=k)\n",
    "print skew(N_k)\n",
    "plt.figure()\n",
    "plt.hist(N_k, bins=100);"
   ]
  },
  {
   "cell_type": "code",
   "execution_count": 16,
   "metadata": {
    "collapsed": true
   },
   "outputs": [],
   "source": [
    "sort_idx = np.argsort(D, axis=1)\n",
    "k = 100\n",
    "D_k = sort_idx[:, 1:(k+1)]"
   ]
  },
  {
   "cell_type": "code",
   "execution_count": 17,
   "metadata": {
    "collapsed": false
   },
   "outputs": [
    {
     "data": {
      "text/plain": [
       "array([[4650, 2942, 3520, ..., 3488, 2864, 6361],\n",
       "       [1933, 6143, 6757, ..., 2346, 3441, 6857],\n",
       "       [3170, 2549, 4860, ..., 2260, 2978, 7433],\n",
       "       ..., \n",
       "       [6016, 2243, 1616, ..., 3486, 3441, 4554],\n",
       "       [7027, 4860, 6346, ..., 7312, 6972, 5532],\n",
       "       [5119, 1563, 4035, ..., 6253, 7433, 3232]])"
      ]
     },
     "execution_count": 17,
     "metadata": {},
     "output_type": "execute_result"
    }
   ],
   "source": [
    "D_k"
   ]
  },
  {
   "cell_type": "code",
   "execution_count": 12,
   "metadata": {
    "collapsed": false
   },
   "outputs": [
    {
     "name": "stdout",
     "output_type": "stream",
     "text": [
      "[ 129  186  261  373  432  468  509  515  552  562  627  655  701  710  740\n",
      "  743  861  913  997 1012 1064 1128 1204 1273 1422 1426 1563 1566 1622 1761\n",
      " 1846 1933 1936 1949 1980 1989 2034 2042 2053 2110 2147 2329 2335 2346 2462\n",
      " 2546 2549 2568 2651 2864 2903 3003 3044 3069 3170 3215 3239 3295 3383 3397\n",
      " 3441 3486 3488 3517 3520 3686 3712 3731 3859 3892 3982 4026 4035 4167 4208\n",
      " 4390 4421 4456 4549 4554 4571 4639 4650 4782 4822 4859 4860 4869 4940 5020\n",
      " 5042 5091 5119 5146 5189 5352 5432 5458 5493 5532 5707 5873 5894 5914 5926\n",
      " 5961 6056 6123 6143 6160 6242 6253 6346 6356 6439 6476 6487 6678 6819 6857\n",
      " 6859 6876 7027 7051 7053 7091 7312 7333 7361 7464 7478 7617 7627 7678 7783\n",
      " 7849 7884 7888 7891 7920 8035 8106]\n",
      "['India' 'Kazakhstan' 'Lesotho' 'Somalia' 'Kazakhstan' 'Kazakhstan'\n",
      " 'Kazakhstan' 'Nigeria' 'South Sudan' 'South Sudan' 'Nigeria' 'Kazakhstan'\n",
      " 'Nigeria' 'Kazakhstan' 'Kazakhstan' 'Kazakhstan' 'United Kingdom'\n",
      " 'South Sudan' 'Uganda' 'Solomon Islands' 'United States of America'\n",
      " 'Lesotho' 'Australia' 'Solomon Islands' 'Fiji' 'Solomon Islands'\n",
      " 'Swaziland' 'Kazakhstan' 'Zambia' 'Kiribati' 'Kazakhstan' 'Kazakhstan'\n",
      " 'Kyrgyzstan' 'Kazakhstan' 'Iraq' 'Sierra Leone' 'Kazakhstan' 'Kyrgyzstan'\n",
      " 'Swaziland' 'United Kingdom' 'Kazakhstan' 'Ireland' 'Kazakhstan'\n",
      " 'Sierra Leone' 'Australia' 'Lesotho' 'Swaziland' 'Western Sahara' 'Ghana'\n",
      " 'Kazakhstan' 'South Sudan' 'Ireland' 'Solomon Islands' 'Kazakhstan'\n",
      " 'Belgium' 'Swaziland' 'United Kingdom' 'Iraq' 'Kenya' 'Sierra Leone'\n",
      " 'Solomon Islands' 'Kazakhstan' 'Kenya' 'Democratic Republic of the Congo'\n",
      " 'Swaziland' 'Lesotho' 'Western Sahara' 'Somalia' 'Somalia'\n",
      " 'United Kingdom' 'United Kingdom' 'Nigeria' 'Kyrgyzstan' 'Kazakhstan'\n",
      " 'Kazakhstan' 'United Kingdom' 'Australia' 'Kazakhstan' 'United Kingdom'\n",
      " 'Nigeria' 'Kazakhstan' 'Kazakhstan' 'Solomon Islands' 'Sierra Leone'\n",
      " 'Somalia' 'Kazakhstan' 'United Kingdom' 'Botswana' 'China' 'Swaziland'\n",
      " 'New Zealand' 'Kazakhstan' 'Pakistan' 'Kazakhstan' 'Swaziland'\n",
      " 'Solomon Islands' 'Kyrgyzstan' 'Kyrgyzstan' 'Uganda' 'Solomon Islands'\n",
      " 'Solomon Islands' 'Kazakhstan' 'Australia' 'Kazakhstan' 'Sierra Leone'\n",
      " 'South Sudan' 'Zambia' 'Western Sahara' 'Nigeria' 'Somalia' 'Nepal'\n",
      " 'South Africa' 'Uganda' 'Nigeria' 'Kazakhstan' 'Swaziland' 'Iraq'\n",
      " 'Australia' 'Sierra Leone' 'Pakistan' 'Swaziland' 'Solomon Islands'\n",
      " 'Uganda' 'Ireland' 'Kazakhstan' 'Nigeria' 'Kazakhstan' 'Kazakhstan'\n",
      " 'Kazakhstan' 'Kazakhstan' 'Somalia' 'Ireland' 'South Sudan' 'Nigeria'\n",
      " 'Somalia' 'Solomon Islands' 'Kazakhstan' 'Australia' 'Iraq' 'Nigeria'\n",
      " 'Solomon Islands' 'Ghana']\n",
      "['D:/_Audio/Music-from-India/025A-RKDATX0070XX-0300A0.mp3'\n",
      " 'D:/_Audio/Colin-Huehns-Pakistan/025A-C0485X0086XX-3200A0.mp3'\n",
      " 'D:/_Audio/Kevin-Volans-South-Africa/025A-C0740X008X01-0700A0.mp3'\n",
      " 'D:/_Audio/John-Low-East-Africa/025A-C0027X0021XX-1000A0.mp3'\n",
      " 'D:/_Audio/Colin-Huehns-Pakistan/025A-C0485X0086XX-0500A0.mp3'\n",
      " 'D:/_Audio/Colin-Huehns-Pakistan/025A-C0485X0085XX-1600A0.mp3'\n",
      " 'D:/_Audio/Colin-Huehns-Pakistan/025A-C0485X0086XX-0700A0.mp3'\n",
      " 'D:/_Audio/Decca-West-African-recordings/025A-1CS0043663XX-0100A0.mp3'\n",
      " 'D:/_Audio/Dinka-songs-from-South-Sudan/025A-C1580X0109XX-0001A0.mp3'\n",
      " 'D:/_Audio/Dinka-songs-from-South-Sudan/025A-C1580X0156XX-0001A0.mp3'\n",
      " 'D:/_Audio/Decca-West-African-recordings/025A-1CS0043641XX-0200A0.mp3'\n",
      " 'D:/_Audio/Colin-Huehns-Pakistan/025A-C0485X0086XX-2500A0.mp3'\n",
      " 'D:/_Audio/Decca-West-African-recordings/025A-1CS0043646XX-0200A0.mp3'\n",
      " 'D:/_Audio/Colin-Huehns-Pakistan/025A-C0485X0085XX-2200A0.mp3'\n",
      " 'D:/_Audio/Colin-Huehns-Pakistan/025A-C0485X0084XX-3400A0.mp3'\n",
      " 'D:/_Audio/Colin-Huehns-Pakistan/025A-C0485X0086XX-2600A0.mp3'\n",
      " 'D:/_Audio/Bob-and-Jacqueline-Patten-Collection/025A-C1033X0085XX-0600A0.mp3'\n",
      " 'D:/_Audio/Dinka-songs-from-South-Sudan/025A-C1580X0117XX-0001A0.mp3'\n",
      " 'D:/_Audio/Peter-Cooke-Uganda/025A-C0023X0006XX-0200A0.mp3'\n",
      " 'D:/_Audio/Firth-Tikopia/025A-C0333X0011XX-1300A0.mp3'\n",
      " 'D:/_Audio/Bob-and-Jacqueline-Patten-Collection/025A-C1033X0309XX-2000A0.mp3'\n",
      " 'D:/_Audio/Kevin-Volans-South-Africa/025A-C0740X004X04-0100A0.mp3'\n",
      " 'D:/_Audio/Ethnographic-wax-cylinders/025A-C0080X1025XX-0100A0.mp3'\n",
      " 'D:/_Audio/Firth-Tikopia/025A-C0333X0011XX-1800A0.mp3'\n",
      " 'D:/_Audio/GK-Roth-Fiji/025A-C0028X0006XX-0200A0.mp3'\n",
      " 'D:/_Audio/Firth-Tikopia/025A-C0333X0034XX-0100A0.mp3'\n",
      " 'D:/_Audio/Rycroft/025A-C0811X0005XX-0300A0.mp3'\n",
      " 'D:/_Audio/Colin-Huehns-Pakistan/025A-C0485X0086XX-1900A0.mp3'\n",
      " 'D:/_Audio/John-Low-East-Africa/025A-C0027X0006XX-0400A0.mp3'\n",
      " 'D:/_Audio/Simon-Seligman-Kiribati/025A-C0205X0004XX-0200A0.mp3'\n",
      " 'D:/_Audio/Colin-Huehns-Pakistan/025A-C0485X0086XX-2000A0.mp3'\n",
      " 'D:/_Audio/Colin-Huehns-Pakistan/025A-C0485X0086XX-0200A0.mp3'\n",
      " 'D:/_Audio/Colin-Huehns-Pakistan/025A-C0485X0087XX-2200A0.mp3'\n",
      " 'D:/_Audio/Colin-Huehns-Pakistan/025A-C0485X0084XX-3800A0.mp3'\n",
      " 'D:/_Audio/Middle-Eastern-music-on-shellac-disc/025A-9CS0025122XX-0002A0.mp3'\n",
      " 'D:/_Audio/Decca-West-African-recordings/025A-1CS0043740XX-0100A0.mp3'\n",
      " 'D:/_Audio/Colin-Huehns-Pakistan/025A-C0485X0085XX-1900A0.mp3'\n",
      " 'D:/_Audio/Colin-Huehns-Pakistan/025A-C0485X0087XX-1600A0.mp3'\n",
      " 'D:/_Audio/Rycroft/025A-C0811X0004XX-3700A0.mp3'\n",
      " 'D:/_Audio/Bob-and-Jacqueline-Patten-Collection/025A-C1033X0338XX-0100A0.mp3'\n",
      " 'D:/_Audio/Colin-Huehns-Pakistan/025A-C0485X0085XX-1400A0.mp3'\n",
      " 'D:/_Audio/Terry-Yarnell-Collection/025A-C1005X0002XX-1200A0.mp3'\n",
      " 'D:/_Audio/Colin-Huehns-Pakistan/025A-C0485X0086XX-1700A0.mp3'\n",
      " 'D:/_Audio/Decca-West-African-recordings/025A-1CS0043758XX-0100A0.mp3'\n",
      " 'D:/_Audio/Ethnographic-wax-cylinders/025A-C0080X1076XX-0100A0.mp3'\n",
      " 'D:/_Audio/Kevin-Volans-South-Africa/025A-C0740X004X24-0200A0.mp3'\n",
      " 'D:/_Audio/Rycroft/025A-C0811X0005XX-2000A0.mp3'\n",
      " 'D:/_Audio/Violeta-Ruano-portraits-of-Saharawi-Music/025A-C1640X0028XX-0001A0.mp3'\n",
      " 'D:/_Audio/Decca-West-African-recordings/025A-1CS0043498XX-0200A0.mp3'\n",
      " 'D:/_Audio/Colin-Huehns-Pakistan/025A-C0485X0085XX-1700A0.mp3'\n",
      " 'D:/_Audio/Dinka-songs-from-South-Sudan/025A-C1580X0145XX-0001A0.mp3'\n",
      " 'D:/_Audio/Terry-Yarnell-Collection/025A-C1005X0006XX-2900A0.mp3'\n",
      " 'D:/_Audio/Firth-Tikopia/025A-C0333X0012XX-0100A0.mp3'\n",
      " 'D:/_Audio/Colin-Huehns-Pakistan/025A-C0485X0086XX-3400A0.mp3'\n",
      " 'D:/_Audio/Rycroft/025A-C0811X0097XX-0700A0.mp3'\n",
      " 'D:/_Audio/Rycroft/025A-C0811X0005XX-1800A0.mp3'\n",
      " 'D:/_Audio/Bob-and-Jacqueline-Patten-Collection/025A-C1033X0254XX-2500A0.mp3'\n",
      " 'D:/_Audio/Middle-Eastern-music-on-shellac-disc/025A-9CS0026163XX-0002A0.mp3'\n",
      " 'D:/_Audio/John-Low-East-Africa/025A-C0027X0003XX-1500A0.mp3'\n",
      " 'D:/_Audio/Decca-West-African-recordings/025A-1CS0043717XX-0200A0.mp3'\n",
      " 'D:/_Audio/Firth-Tikopia/025A-C0333X0001XX-0500A0.mp3'\n",
      " 'D:/_Audio/Colin-Huehns-Pakistan/025A-C0485X0085XX-3100A0.mp3'\n",
      " 'D:/_Audio/John-Low-East-Africa/025A-C0027X0003XX-1700A0.mp3'\n",
      " 'D:/_Audio/Ken-Gourlay-Uganda/025A-C0105X0005XX-0400A0.mp3'\n",
      " 'D:/_Audio/Rycroft/025A-C0811X0005XX-1100A0.mp3'\n",
      " 'D:/_Audio/Kevin-Volans-South-Africa/025A-C0740X004X06-0500A0.mp3'\n",
      " 'D:/_Audio/Violeta-Ruano-portraits-of-Saharawi-Music/025A-C1640X0025XX-0001A0.mp3'\n",
      " 'D:/_Audio/John-Low-East-Africa/025A-C0027X0012XX-0300A0.mp3'\n",
      " 'D:/_Audio/John-Low-East-Africa/025A-C0027X0024XX-0800A0.mp3'\n",
      " 'D:/_Audio/Bob-and-Jacqueline-Patten-Collection/025A-C1033X0264XX-3300A0.mp3'\n",
      " 'D:/_Audio/Bob-and-Jacqueline-Patten-Collection/025A-C1033X0323XX-0900A0.mp3'\n",
      " 'D:/_Audio/Decca-West-African-recordings/025A-1CS0043639XX-0100A0.mp3'\n",
      " 'D:/_Audio/Colin-Huehns-Pakistan/025A-C0485X0087XX-0100A0.mp3'\n",
      " 'D:/_Audio/Colin-Huehns-Pakistan/025A-C0485X0086XX-2400A0.mp3'\n",
      " 'D:/_Audio/Colin-Huehns-Pakistan/025A-C0485X0085XX-1500A0.mp3'\n",
      " 'D:/_Audio/Roy-Palmer-collection/025A-C1023X0006XX-0700A0.mp3'\n",
      " 'D:/_Audio/Ethnographic-wax-cylinders/025A-C0080X1080XX-0100A0.mp3'\n",
      " 'D:/_Audio/Colin-Huehns-Pakistan/025A-C0485X0086XX-1500A0.mp3'\n",
      " 'D:/_Audio/Reg-Hall-Archive/025A-C0903X0094XX-0200A0.mp3'\n",
      " 'D:/_Audio/Decca-West-African-recordings/025A-1CS0043662XX-0200A0.mp3'\n",
      " 'D:/_Audio/Colin-Huehns-Pakistan/025A-C0485X0085XX-1100A0.mp3'\n",
      " 'D:/_Audio/Colin-Huehns-Pakistan/025A-C0485X0086XX-0300A0.mp3'\n",
      " 'D:/_Audio/Firth-Tikopia/025A-C0333X0030XX-0100A0.mp3'\n",
      " 'D:/_Audio/Decca-West-African-recordings/025A-1CS0043712XX-0200A0.mp3'\n",
      " 'D:/_Audio/John-Low-East-Africa/025A-C0027X0017XX-0800A0.mp3'\n",
      " 'D:/_Audio/Colin-Huehns-Pakistan/025A-C0485X0086XX-3000A0.mp3'\n",
      " 'D:/_Audio/Bob-and-Jacqueline-Patten-Collection/025A-C1033X0281XX-3200A0.mp3'\n",
      " 'D:/_Audio/John-Brearley-Botswana/025A-C0065X0043XX-0900A0.mp3'\n",
      " 'D:/_Audio/Colin-Huehns-Pakistan/025A-C0485X0081XX-1500A0.mp3'\n",
      " 'D:/_Audio/Rycroft/025A-C0811X0005XX-1300A0.mp3'\n",
      " '/import/c4dm-scratch/matthiasm/data/smithsonian/12932/26829/SampleAudio.wav'\n",
      " 'D:/_Audio/Colin-Huehns-Pakistan/025A-C0485X0086XX-0400A0.mp3'\n",
      " 'D:/_Audio/Colin-Huehns-Pakistan/025A-C0485X0031XX-0500A0.mp3'\n",
      " 'D:/_Audio/Colin-Huehns-Pakistan/025A-C0485X0085XX-2400A0.mp3'\n",
      " 'D:/_Audio/Rycroft/025A-C0811X0005XX-0500A0.mp3'\n",
      " 'D:/_Audio/Firth-Tikopia/025A-C0333X0032XX-0200A0.mp3'\n",
      " 'D:/_Audio/Colin-Huehns-Pakistan/025A-C0485X0084XX-0800A0.mp3'\n",
      " 'D:/_Audio/Colin-Huehns-Pakistan/025A-C0485X0088XX-0400A0.mp3'\n",
      " 'D:/_Audio/Ken-Gourlay-Uganda/025A-C0105X0021XX-1200A0.mp3'\n",
      " 'D:/_Audio/Firth-Tikopia/025A-C0333X0011XX-0800A0.mp3'\n",
      " 'D:/_Audio/Firth-Tikopia/025A-C0333X0011XX-1700A0.mp3'\n",
      " 'D:/_Audio/Colin-Huehns-Pakistan/025A-C0485X0086XX-1400A0.mp3'\n",
      " 'D:/_Audio/Ethnographic-wax-cylinders/025A-C0080X1020XX-0100A0.mp3'\n",
      " 'D:/_Audio/Colin-Huehns-Pakistan/025A-C0485X0085XX-3000A0.mp3'\n",
      " 'D:/_Audio/Decca-West-African-recordings/025A-1CS0043759XX-0200A0.mp3'\n",
      " 'D:/_Audio/Dinka-songs-from-South-Sudan/025A-C1580X0143XX-0001A0.mp3'\n",
      " 'D:/_Audio/John-Low-East-Africa/025A-C0027X0006XX-0600A0.mp3'\n",
      " 'D:/_Audio/Violeta-Ruano-portraits-of-Saharawi-Music/025A-C1640X0047XX-0001A0.mp3'\n",
      " 'D:/_Audio/Decca-West-African-recordings/025A-1CS0043665XX-0100A0.mp3'\n",
      " 'D:/_Audio/John-Low-East-Africa/025A-C0027X0020XX-0800A0.mp3'\n",
      " 'D:/_Audio/Carol-Tingey-Nepal-Collection/025A-C1465X0072XX-1400A0.mp3'\n",
      " 'D:/_Audio/Rycroft/025A-C0811X0018XX-0200A0.mp3'\n",
      " 'D:/_Audio/Peter-Cooke-Uganda/025A-C0023X0002XX-3300A0.mp3'\n",
      " 'D:/_Audio/Decca-West-African-recordings/025A-1CS0043644XX-0100A0.mp3'\n",
      " 'D:/_Audio/Colin-Huehns-Pakistan/025A-C0485X0086XX-0900A0.mp3'\n",
      " 'D:/_Audio/Rycroft/025A-C0811X0041XX-0800A0.mp3'\n",
      " 'D:/_Audio/Middle-Eastern-music-on-shellac-disc/025A-9CS0025068XX-0002A0.mp3'\n",
      " 'D:/_Audio/Ethnographic-wax-cylinders/025A-C0080X1071XX-0100A0.mp3'\n",
      " 'D:/_Audio/Decca-West-African-recordings/025A-1CS0043769XX-0100A0.mp3'\n",
      " 'D:/_Audio/Nicholas-Pierce-Balochistan/025A-C0140X0012XX-0200A0.mp3'\n",
      " 'D:/_Audio/Rycroft/025A-C0811X0005XX-1500A0.mp3'\n",
      " 'D:/_Audio/Firth-Tikopia/025A-C0333X0003XX-0200A0.mp3'\n",
      " 'D:/_Audio/Peter-Cooke-Uganda/025A-C0023X0036XX-0700A0.mp3'\n",
      " 'D:/_Audio/Terry-Yarnell-Collection/025A-C1005X0002XX-1000A0.mp3'\n",
      " 'D:/_Audio/Colin-Huehns-Pakistan/025A-C0485X0085XX-1300A0.mp3'\n",
      " 'D:/_Audio/Decca-West-African-recordings/025A-1CS0043583XX-0200A0.mp3'\n",
      " 'D:/_Audio/Colin-Huehns-Pakistan/025A-C0485X0085XX-2500A0.mp3'\n",
      " 'D:/_Audio/Colin-Huehns-Pakistan/025A-C0485X0086XX-1200A0.mp3'\n",
      " 'D:/_Audio/Colin-Huehns-Pakistan/025A-C0485X0085XX-2900A0.mp3'\n",
      " 'D:/_Audio/Colin-Huehns-Pakistan/025A-C0485X0086XX-1000A0.mp3'\n",
      " 'D:/_Audio/John-Low-East-Africa/025A-C0027X0012XX-1100A0.mp3'\n",
      " 'D:/_Audio/Terry-Yarnell-Collection/025A-C1005X0002XX-0200A0.mp3'\n",
      " 'D:/_Audio/Dinka-songs-from-South-Sudan/025A-C1580X0148XX-0001A0.mp3'\n",
      " 'D:/_Audio/Decca-West-African-recordings/025A-1CS0043691XX-0100A0.mp3'\n",
      " 'D:/_Audio/John-Low-East-Africa/025A-C0027X0012XX-0200A0.mp3'\n",
      " 'D:/_Audio/Firth-Tikopia/025A-C0333X0011XX-1100A0.mp3'\n",
      " 'D:/_Audio/Colin-Huehns-Pakistan/025A-C0485X0084XX-3700A0.mp3'\n",
      " 'D:/_Audio/Ethnographic-wax-cylinders/025A-C0080X0816XX-0100A0.mp3'\n",
      " 'D:/_Audio/Middle-Eastern-music-on-shellac-disc/025A-9CS0025050XX-0001A0.mp3'\n",
      " 'D:/_Audio/Decca-West-African-recordings/025A-1CS0043654XX-0100A0.mp3'\n",
      " 'D:/_Audio/Firth-Tikopia/025A-C0333X0018XX-0200A0.mp3'\n",
      " 'D:/_Audio/Decca-West-African-recordings/025A-1CS0043520XX-0100A0.mp3']\n"
     ]
    }
   ],
   "source": [
    "large_hubs_idx = np.where(N_k>1000)[0]\n",
    "print large_hubs_idx\n",
    "print Y[large_hubs_idx]\n",
    "print Yaudio[large_hubs_idx]"
   ]
  },
  {
   "cell_type": "code",
   "execution_count": 21,
   "metadata": {
    "collapsed": false
   },
   "outputs": [
    {
     "data": {
      "text/plain": [
       "(7160,)"
      ]
     },
     "execution_count": 21,
     "metadata": {},
     "output_type": "execute_result"
    }
   ],
   "source": [
    "np.where(D_k==515)[0].shape"
   ]
  },
  {
   "cell_type": "markdown",
   "metadata": {},
   "source": [
    "## let's get the audio url to listen to tracks identified as large hubs"
   ]
  },
  {
   "cell_type": "code",
   "execution_count": 19,
   "metadata": {
    "collapsed": false
   },
   "outputs": [
    {
     "name": "stderr",
     "output_type": "stream",
     "text": [
      "/homes/mp305/anaconda/lib/python2.7/site-packages/IPython/core/interactiveshell.py:2822: DtypeWarning: Columns (0,1,2,4,5,6,7,8,10,11,12,13,14,15,16,17,19,21,22,23,24,25,26,27,29,31,35,38,39,40,41,44,45,48,55,56,58,59,60,61,62,63,64,65,66,67,68,69,70,71,72,73,74,75,76,77,78,79,80,81,82,83,84,85,86,93,95,96) have mixed types. Specify dtype option on import or set low_memory=False.\n",
      "  if self.run_code(code, result):\n"
     ]
    }
   ],
   "source": [
    "ddf = outliers.load_metadata(Yaudio, metadata_file='../data/metadata_BLSM_language_all.csv')\n",
    "#ddf = outliers.load_metadata(Yaudio, metadata_file='/Users/mariapanteli/Documents/'+\n",
    "#                             'QMUL/Code/MyPythonCode/MergeBL-Smith/data/metadata_BLSM_language_all.csv')"
   ]
  },
  {
   "cell_type": "code",
   "execution_count": 6,
   "metadata": {
    "collapsed": false
   },
   "outputs": [
    {
     "data": {
      "text/plain": [
       "(8200, 108)"
      ]
     },
     "execution_count": 6,
     "metadata": {},
     "output_type": "execute_result"
    }
   ],
   "source": [
    "ddf.shape"
   ]
  },
  {
   "cell_type": "code",
   "execution_count": 7,
   "metadata": {
    "collapsed": false
   },
   "outputs": [
    {
     "data": {
      "text/plain": [
       "True"
      ]
     },
     "execution_count": 7,
     "metadata": {},
     "output_type": "execute_result"
    }
   ],
   "source": [
    "\"songurls_Album\" in ddf.columns"
   ]
  },
  {
   "cell_type": "markdown",
   "metadata": {},
   "source": [
    "### first, fix the url for BL tracks (because it was changed recently and the metadata.csv file is not updated) "
   ]
  },
  {
   "cell_type": "code",
   "execution_count": 8,
   "metadata": {
    "collapsed": false
   },
   "outputs": [
    {
     "name": "stderr",
     "output_type": "stream",
     "text": [
      "/Users/mariapanteli/anaconda/lib/python2.7/site-packages/pandas/core/indexing.py:121: SettingWithCopyWarning: \n",
      "A value is trying to be set on a copy of a slice from a DataFrame\n",
      "\n",
      "See the the caveats in the documentation: http://pandas.pydata.org/pandas-docs/stable/indexing.html#indexing-view-versus-copy\n",
      "  self._setitem_with_indexer(indexer, value)\n"
     ]
    }
   ],
   "source": [
    "bl_inds = np.where(np.isnan(ddf['BuyLinkTrackDownload']))[0]\n",
    "for bl_ind in bl_inds:\n",
    "    ddf['songurls_Album'].iloc[bl_ind] = ('https://sounds.bl.uk/World-and-traditional-music/' + \n",
    "                                        ddf['Folder'].iloc[bl_ind] + '/' + \n",
    "                                        ddf['MetaFile'].iloc[bl_ind].split('.')[0])"
   ]
  },
  {
   "cell_type": "code",
   "execution_count": 10,
   "metadata": {
    "collapsed": false
   },
   "outputs": [
    {
     "data": {
      "text/plain": [
       "array([ 'https://sounds.bl.uk/World-and-traditional-music/Decca-West-African-recordings/025M-1CS0043663XX-0100V0',\n",
       "       'https://sounds.bl.uk/World-and-traditional-music/Rycroft/025M-C0811X0005XX-2000V0',\n",
       "       'https://sounds.bl.uk/World-and-traditional-music/Colin-Huehns-Pakistan/025M-C0485X0085XX-3100V0',\n",
       "       'https://sounds.bl.uk/World-and-traditional-music/Rycroft/025M-C0811X0005XX-1300V0',\n",
       "       'https://sounds.bl.uk/World-and-traditional-music/Colin-Huehns-Pakistan/025M-C0485X0031XX-0500V0'], dtype=object)"
      ]
     },
     "execution_count": 10,
     "metadata": {},
     "output_type": "execute_result"
    }
   ],
   "source": [
    "large_hubs_idx = np.array([515, 2549, 3486, 5020, 5119])\n",
    "ddf['songurls_Album'].iloc[large_hubs_idx].get_values()"
   ]
  },
  {
   "cell_type": "code",
   "execution_count": null,
   "metadata": {
    "collapsed": true
   },
   "outputs": [],
   "source": []
  }
 ],
 "metadata": {
  "kernelspec": {
   "display_name": "Python 2",
   "language": "python",
   "name": "python2"
  },
  "language_info": {
   "codemirror_mode": {
    "name": "ipython",
    "version": 2
   },
   "file_extension": ".py",
   "mimetype": "text/x-python",
   "name": "python",
   "nbconvert_exporter": "python",
   "pygments_lexer": "ipython2",
   "version": "2.7.11"
  }
 },
 "nbformat": 4,
 "nbformat_minor": 1
}
